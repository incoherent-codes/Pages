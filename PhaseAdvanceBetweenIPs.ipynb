{
 "cells": [
  {
   "cell_type": "markdown",
   "metadata": {
    "slideshow": {
     "slide_type": "slide"
    }
   },
   "source": [
    "# Phase advance between IPs in vdM scans\n",
    "\n",
    "In the framework of the BB and vdM scan studies, we were requested to compute and distribute the phase advances of the optics used in stable beams. To improve the reproducibility of the data and limit black box approaches we prepared this simple notebook to get the requested tables."
   ]
  },
  {
   "cell_type": "code",
   "execution_count": null,
   "metadata": {
    "slideshow": {
     "slide_type": "subslide"
    }
   },
   "outputs": [],
   "source": [
    "mySource='/eos/user/s/sterbini/MD_ANALYSIS/2019/VdMScans/PhaseAdvanceBetweenIPs.ipynb'\n",
    "stack='96py3'\n",
    "import cl2pd # do \"pip install --user git+https://github.com/sterbini/cl2pd.git\" to install\n",
    "from cl2pd import importData\n",
    "from cl2pd import dotdict\n",
    "dotdict=dotdict.dotdict\n",
    "pd=importData.pd     # is the pandas package\n",
    "np=importData.np     # is the numpy package\n",
    "cals=importData.cals # pytimber log class\n",
    "import matplotlib.pyplot as plt\n",
    "get_ipython().magic('matplotlib inline')\n",
    "%config InlineBackend.figure_format = 'retina' # retina display"
   ]
  },
  {
   "cell_type": "code",
   "execution_count": 20,
   "metadata": {
    "slideshow": {
     "slide_type": "subslide"
    }
   },
   "outputs": [
    {
     "name": "stdout",
     "output_type": "stream",
     "text": [
      "\n",
      "  ++++++++++++++++++++++++++++++++++++++++++++\n",
      "  +     MAD-X 5.05.01  (64 bit, Linux)       +\n",
      "  + Support: mad@cern.ch, http://cern.ch/mad +\n",
      "  + Release   date: 2019.06.07               +\n",
      "  + Execution date: 2019.07.10 09:57:28      +\n",
      "  ++++++++++++++++++++++++++++++++++++++++++++\n"
     ]
    }
   ],
   "source": [
    "from cpymad.madx import Madx\n",
    "from matplotlib import pyplot as plt\n",
    "myMad = Madx()"
   ]
  },
  {
   "cell_type": "markdown",
   "metadata": {
    "slideshow": {
     "slide_type": "slide"
    }
   },
   "source": [
    "# The MAD-X script\n",
    "We use swan.cern.ch and the optics repositoris in EOS."
   ]
  },
  {
   "cell_type": "code",
   "execution_count": 30,
   "metadata": {
    "slideshow": {
     "slide_type": "fragment"
    }
   },
   "outputs": [],
   "source": [
    "# Launching madx with the standard settings (from eos repositories)\n",
    "myMad.input('''\n",
    "! Sequence definition\n",
    "option, -echo,-warn,-info;\n",
    "call, file=\"/eos/project/a/abpdata/lhc/optics/runII/2015/aperture/const_for_aperture.madx\";\n",
    "call, file=\"/eos/project/a/abpdata/lhc/optics/runII/2015/lhc_as-built.seq\";\n",
    "call, file=\"/eos/project/a/abpdata/lhc/optics/runII/2015/aperture/aperture_as-built.b1.madx\";\n",
    "call, file=\"/eos/project/a/abpdata/lhc/optics/runII/2015/aperture/aperture_as-built.b2.madx\";\n",
    "call, file=\"/eos/project/a/abpdata/lhc/optics/runII/2015/aperture/aper_tol_as-built.b1.madx\";\n",
    "call, file=\"/eos/project/a/abpdata/lhc/optics/runII/2015/aperture/aper_tol_as-built.b2.madx\";\n",
    "call, file=\"/eos/project/a/abpdata/lhc/optics/runII/2015/aperture/exp_pipe_model_after_LS1.madx\";\n",
    "call, file=\"/eos/project/a/abpdata/lhc/optics/runII/2015/aperture/exp_pipe_install_after_LS1.madx\";\n",
    "! Beam definition\n",
    "beam, sequence=lhcb1, bv= 1,\n",
    "  particle=proton, charge=1, mass=0.93827231,\n",
    "  energy= 6500,   npart=0.85e11,kbunch=2748,\n",
    "  ex=5.773983446153845e-10,ey=5.773983446153845e-10;\n",
    "beam, sequence=lhcb2, bv=-1,\n",
    "  particle=proton, charge=1, mass=0.93827231,\n",
    "  energy= 6500,   npart=0.85e11,kbunch=2748,\n",
    "  ex=5.773983446153845e-10,ey=5.773983446153845e-10;\n",
    "! Strength definition\n",
    "call, file=\"/eos/project/a/abpdata/lhc/optics/runII/2015/opt_19200_19000_19200_24000_coll.madx\";\n",
    "nrj=beam%lhcb1->pc/beam%lhcb1->charge;\n",
    "''');"
   ]
  },
  {
   "cell_type": "code",
   "execution_count": 24,
   "metadata": {
    "slideshow": {
     "slide_type": "subslide"
    }
   },
   "outputs": [
    {
     "name": "stdout",
     "output_type": "stream",
     "text": [
      "enter Twiss module\n",
      "  \n",
      "iteration:   1 error:   2.525108E-03 deltap:   0.000000E+00\n",
      "orbit:  -3.056898E-05  6.269177E-08  4.857955E-06 -1.448609E-04  0.000000E+00  0.000000E+00\n",
      "  \n",
      "iteration:   2 error:   4.315597E-05 deltap:   0.000000E+00\n",
      "orbit:   1.134273E-09 -7.053445E-10 -2.408938E-10 -1.450000E-04  0.000000E+00  0.000000E+00\n",
      "  \n",
      "iteration:   3 error:   4.337533E-09 deltap:   0.000000E+00\n",
      "orbit:   2.590299E-11 -5.470202E-10  1.672655E-13 -1.450000E-04  0.000000E+00  0.000000E+00\n",
      "\n",
      "++++++ table: summ\n",
      "\n",
      "            length             orbit5               alfa            gammatr \n",
      "        26658.8832                 -0    0.0003202048804        55.88381246 \n",
      "\n",
      "                q1                dq1            betxmax              dxmax \n",
      "        64.3099999        3.000000078         593.511501        2.720741306 \n",
      "\n",
      "             dxrms             xcomax             xcorms                 q2 \n",
      "       1.344104535      0.01545439897    0.0009885626082        59.32000003 \n",
      "\n",
      "               dq2            betymax              dymax              dyrms \n",
      "       2.999999805         609.869606       0.1210194688      0.03643142662 \n",
      "\n",
      "            ycomax             ycorms             deltap            synch_1 \n",
      "    0.006986494065    0.0006273649316                  0                  0 \n",
      "\n",
      "           synch_2            synch_3            synch_4            synch_5 \n",
      "                 0                  0                  0                  0 \n",
      "\n",
      "            nflips \n",
      "                 0 \n",
      "enter Twiss module\n",
      "  \n",
      "iteration:   1 error:   2.517161E-03 deltap:   0.000000E+00\n",
      "orbit:   1.769414E-05 -5.593396E-07 -2.801367E-06  1.450025E-04  0.000000E+00  0.000000E+00\n",
      "  \n",
      "iteration:   2 error:   3.438873E-05 deltap:   0.000000E+00\n",
      "orbit:   2.365727E-09  3.662869E-10 -1.633338E-10  1.450000E-04  0.000000E+00  0.000000E+00\n",
      "  \n",
      "iteration:   3 error:   5.623722E-10 deltap:   0.000000E+00\n",
      "orbit:   1.323483E-09  3.178942E-10  1.104578E-13  1.450000E-04  0.000000E+00  0.000000E+00\n",
      "\n",
      "++++++ table: summ\n",
      "\n",
      "            length             orbit5               alfa            gammatr \n",
      "        26658.8832                 -0    0.0003192054999        55.97122565 \n",
      "\n",
      "                q1                dq1            betxmax              dxmax \n",
      "       64.30999991         3.00000001        590.9961121        2.921792802 \n",
      "\n",
      "             dxrms             xcomax             xcorms                 q2 \n",
      "        1.34338296      0.01545439615    0.0009994160709        59.32000003 \n",
      "\n",
      "               dq2            betymax              dymax              dyrms \n",
      "        3.00000001        604.6420531       0.1272431477      0.02218671993 \n",
      "\n",
      "            ycomax             ycorms             deltap            synch_1 \n",
      "    0.006986494064    0.0006278667311                  0                  0 \n",
      "\n",
      "           synch_2            synch_3            synch_4            synch_5 \n",
      "                 0                  0                  0                  0 \n",
      "\n",
      "            nflips \n",
      "                 0 \n"
     ]
    }
   ],
   "source": [
    "# twissing the lattice\n",
    "myMad.input('''\n",
    "use, sequence=lhcb1;\n",
    "twiss, table=twiss_b1;\n",
    "use, sequence=lhcb2;\n",
    "twiss, table=twiss_b2;\n",
    "''');\n",
    "b1DF=myMad.table.twiss_b1.dframe()\n",
    "b2DF=myMad.table.twiss_b2.dframe()"
   ]
  },
  {
   "cell_type": "code",
   "execution_count": 31,
   "metadata": {
    "slideshow": {
     "slide_type": "subslide"
    }
   },
   "outputs": [
    {
     "name": "stdout",
     "output_type": "stream",
     "text": [
      "B1 H tune: 64.30999990172486\n",
      "B1 V tune: 59.32000002666296\n",
      "B2 H tune: 64.30999990601576\n",
      "B2 V tune: 59.32000002847266\n"
     ]
    }
   ],
   "source": [
    "# retrieving the tunes\n",
    "B1Q1=b1DF['mux'].values[-1]\n",
    "B1Q2=b1DF['muy'].values[-1]\n",
    "B2Q1=b2DF['mux'].values[-1]\n",
    "B2Q2=b2DF['muy'].values[-1]\n",
    "print(f'B1 H tune: {B1Q1}')\n",
    "print(f'B1 V tune: {B1Q2}')\n",
    "print(f'B2 H tune: {B2Q1}')\n",
    "print(f'B2 V tune: {B2Q2}')\n",
    "# filling a useful dictionary\n",
    "\n",
    "# B1\n",
    "B1=dotdict()\n",
    "B1.atIP1=b1DF['name']=='ip1:1'\n",
    "B1.atIP2=b1DF['name']=='ip2:1'\n",
    "B1.atIP5=b1DF['name']=='ip5:1'\n",
    "B1.atIP8=b1DF['name']=='ip8:1'\n",
    "B1.atIP1l=b1DF['name']=='ip1.l1:1'\n",
    "\n",
    "\n",
    "# B2\n",
    "B2=dotdict()\n",
    "B2.atIP1=b2DF['name']=='ip1:1'\n",
    "B2.atIP2=b2DF['name']=='ip2:1'\n",
    "B2.atIP5=b2DF['name']=='ip5:1'\n",
    "B2.atIP8=b2DF['name']=='ip8:1'\n",
    "B2.atIP1l=b2DF['name']=='ip1.l1:1'"
   ]
  },
  {
   "cell_type": "markdown",
   "metadata": {
    "slideshow": {
     "slide_type": "slide"
    }
   },
   "source": [
    "# B1 summary"
   ]
  },
  {
   "cell_type": "code",
   "execution_count": 28,
   "metadata": {
    "slideshow": {
     "slide_type": "fragment"
    }
   },
   "outputs": [
    {
     "data": {
      "text/html": [
       "<div>\n",
       "<style scoped>\n",
       "    .dataframe tbody tr th:only-of-type {\n",
       "        vertical-align: middle;\n",
       "    }\n",
       "\n",
       "    .dataframe tbody tr th {\n",
       "        vertical-align: top;\n",
       "    }\n",
       "\n",
       "    .dataframe thead th {\n",
       "        text-align: right;\n",
       "    }\n",
       "</style>\n",
       "<table border=\"1\" class=\"dataframe\">\n",
       "  <thead>\n",
       "    <tr style=\"text-align: right;\">\n",
       "      <th></th>\n",
       "      <th>name</th>\n",
       "      <th>s</th>\n",
       "      <th>betx</th>\n",
       "      <th>mux</th>\n",
       "      <th>bety</th>\n",
       "      <th>muy</th>\n",
       "      <th>x</th>\n",
       "      <th>px</th>\n",
       "      <th>y</th>\n",
       "      <th>py</th>\n",
       "      <th>dx</th>\n",
       "      <th>dpx</th>\n",
       "    </tr>\n",
       "  </thead>\n",
       "  <tbody>\n",
       "    <tr>\n",
       "      <th>ip1</th>\n",
       "      <td>ip1:1</td>\n",
       "      <td>0.000000</td>\n",
       "      <td>19.111772</td>\n",
       "      <td>0.000000</td>\n",
       "      <td>19.263422</td>\n",
       "      <td>0.000000</td>\n",
       "      <td>2.590299e-11</td>\n",
       "      <td>-5.470202e-10</td>\n",
       "      <td>1.672655e-13</td>\n",
       "      <td>-1.450000e-04</td>\n",
       "      <td>-0.028090</td>\n",
       "      <td>-0.001066</td>\n",
       "    </tr>\n",
       "    <tr>\n",
       "      <th>ip2</th>\n",
       "      <td>ip2:1</td>\n",
       "      <td>3332.436584</td>\n",
       "      <td>18.862944</td>\n",
       "      <td>8.295954</td>\n",
       "      <td>18.929029</td>\n",
       "      <td>7.669167</td>\n",
       "      <td>-3.905104e-09</td>\n",
       "      <td>3.146726e-07</td>\n",
       "      <td>-3.385396e-13</td>\n",
       "      <td>1.953840e-04</td>\n",
       "      <td>-0.018981</td>\n",
       "      <td>0.001521</td>\n",
       "    </tr>\n",
       "    <tr>\n",
       "      <th>ip5</th>\n",
       "      <td>ip5:1</td>\n",
       "      <td>13329.289233</td>\n",
       "      <td>19.169696</td>\n",
       "      <td>31.975690</td>\n",
       "      <td>19.187829</td>\n",
       "      <td>29.648602</td>\n",
       "      <td>5.456222e-09</td>\n",
       "      <td>-1.039097e-10</td>\n",
       "      <td>-3.448094e-13</td>\n",
       "      <td>-3.200254e-15</td>\n",
       "      <td>-0.015047</td>\n",
       "      <td>-0.001544</td>\n",
       "    </tr>\n",
       "    <tr>\n",
       "      <th>ip8</th>\n",
       "      <td>ip8:1</td>\n",
       "      <td>23315.378984</td>\n",
       "      <td>24.114956</td>\n",
       "      <td>56.064831</td>\n",
       "      <td>23.903805</td>\n",
       "      <td>51.017069</td>\n",
       "      <td>9.757441e-09</td>\n",
       "      <td>-4.653714e-04</td>\n",
       "      <td>2.101193e-13</td>\n",
       "      <td>-1.948947e-06</td>\n",
       "      <td>-0.013657</td>\n",
       "      <td>-0.000533</td>\n",
       "    </tr>\n",
       "    <tr>\n",
       "      <th>ip1.l1</th>\n",
       "      <td>ip1.l1:1</td>\n",
       "      <td>26658.883200</td>\n",
       "      <td>19.111772</td>\n",
       "      <td>64.310000</td>\n",
       "      <td>19.263422</td>\n",
       "      <td>59.320000</td>\n",
       "      <td>2.590299e-11</td>\n",
       "      <td>-5.470202e-10</td>\n",
       "      <td>1.672627e-13</td>\n",
       "      <td>-1.450000e-04</td>\n",
       "      <td>-0.028090</td>\n",
       "      <td>-0.001066</td>\n",
       "    </tr>\n",
       "  </tbody>\n",
       "</table>\n",
       "</div>"
      ],
      "text/plain": [
       "            name             s       betx        mux       bety        muy  \\\n",
       "ip1        ip1:1      0.000000  19.111772   0.000000  19.263422   0.000000   \n",
       "ip2        ip2:1   3332.436584  18.862944   8.295954  18.929029   7.669167   \n",
       "ip5        ip5:1  13329.289233  19.169696  31.975690  19.187829  29.648602   \n",
       "ip8        ip8:1  23315.378984  24.114956  56.064831  23.903805  51.017069   \n",
       "ip1.l1  ip1.l1:1  26658.883200  19.111772  64.310000  19.263422  59.320000   \n",
       "\n",
       "                   x            px             y            py        dx  \\\n",
       "ip1     2.590299e-11 -5.470202e-10  1.672655e-13 -1.450000e-04 -0.028090   \n",
       "ip2    -3.905104e-09  3.146726e-07 -3.385396e-13  1.953840e-04 -0.018981   \n",
       "ip5     5.456222e-09 -1.039097e-10 -3.448094e-13 -3.200254e-15 -0.015047   \n",
       "ip8     9.757441e-09 -4.653714e-04  2.101193e-13 -1.948947e-06 -0.013657   \n",
       "ip1.l1  2.590299e-11 -5.470202e-10  1.672627e-13 -1.450000e-04 -0.028090   \n",
       "\n",
       "             dpx  \n",
       "ip1    -0.001066  \n",
       "ip2     0.001521  \n",
       "ip5    -0.001544  \n",
       "ip8    -0.000533  \n",
       "ip1.l1 -0.001066  "
      ]
     },
     "execution_count": 28,
     "metadata": {},
     "output_type": "execute_result"
    }
   ],
   "source": [
    "# NB: the orbit of the beams (namely IP separation and crossing angle could differ from the vdM fill settings)\n",
    "b1DF[B1.atIP1 | B1.atIP2 | B1.atIP5 | B1.atIP8| B1.atIP1l][['name','s','betx','mux','bety','muy','x','px','y','py','dx','dpx']]"
   ]
  },
  {
   "cell_type": "markdown",
   "metadata": {
    "slideshow": {
     "slide_type": "slide"
    }
   },
   "source": [
    "# B2 summary"
   ]
  },
  {
   "cell_type": "code",
   "execution_count": 29,
   "metadata": {
    "slideshow": {
     "slide_type": "fragment"
    }
   },
   "outputs": [
    {
     "data": {
      "text/html": [
       "<div>\n",
       "<style scoped>\n",
       "    .dataframe tbody tr th:only-of-type {\n",
       "        vertical-align: middle;\n",
       "    }\n",
       "\n",
       "    .dataframe tbody tr th {\n",
       "        vertical-align: top;\n",
       "    }\n",
       "\n",
       "    .dataframe thead th {\n",
       "        text-align: right;\n",
       "    }\n",
       "</style>\n",
       "<table border=\"1\" class=\"dataframe\">\n",
       "  <thead>\n",
       "    <tr style=\"text-align: right;\">\n",
       "      <th></th>\n",
       "      <th>name</th>\n",
       "      <th>s</th>\n",
       "      <th>betx</th>\n",
       "      <th>mux</th>\n",
       "      <th>bety</th>\n",
       "      <th>muy</th>\n",
       "      <th>x</th>\n",
       "      <th>px</th>\n",
       "      <th>y</th>\n",
       "      <th>py</th>\n",
       "      <th>dx</th>\n",
       "      <th>dpx</th>\n",
       "    </tr>\n",
       "  </thead>\n",
       "  <tbody>\n",
       "    <tr>\n",
       "      <th>ip1</th>\n",
       "      <td>ip1:1</td>\n",
       "      <td>0.000000</td>\n",
       "      <td>19.344438</td>\n",
       "      <td>0.000000</td>\n",
       "      <td>19.202845</td>\n",
       "      <td>0.000000</td>\n",
       "      <td>1.323483e-09</td>\n",
       "      <td>3.178942e-10</td>\n",
       "      <td>1.104578e-13</td>\n",
       "      <td>1.450000e-04</td>\n",
       "      <td>0.028278</td>\n",
       "      <td>-0.000782</td>\n",
       "    </tr>\n",
       "    <tr>\n",
       "      <th>ip2</th>\n",
       "      <td>ip2:1</td>\n",
       "      <td>3332.284216</td>\n",
       "      <td>18.856456</td>\n",
       "      <td>8.272802</td>\n",
       "      <td>18.964904</td>\n",
       "      <td>7.957720</td>\n",
       "      <td>1.431809e-09</td>\n",
       "      <td>-3.146798e-07</td>\n",
       "      <td>1.802691e-13</td>\n",
       "      <td>-1.953840e-04</td>\n",
       "      <td>-0.019935</td>\n",
       "      <td>-0.001338</td>\n",
       "    </tr>\n",
       "    <tr>\n",
       "      <th>ip5</th>\n",
       "      <td>ip5:1</td>\n",
       "      <td>13329.593967</td>\n",
       "      <td>19.097400</td>\n",
       "      <td>31.984398</td>\n",
       "      <td>19.200269</td>\n",
       "      <td>29.761319</td>\n",
       "      <td>9.546657e-10</td>\n",
       "      <td>1.033076e-11</td>\n",
       "      <td>6.666004e-13</td>\n",
       "      <td>-1.986384e-15</td>\n",
       "      <td>0.021519</td>\n",
       "      <td>-0.000772</td>\n",
       "    </tr>\n",
       "    <tr>\n",
       "      <th>ip8</th>\n",
       "      <td>ip8:1</td>\n",
       "      <td>23315.226616</td>\n",
       "      <td>24.347550</td>\n",
       "      <td>55.799011</td>\n",
       "      <td>23.946384</td>\n",
       "      <td>51.715754</td>\n",
       "      <td>8.990442e-10</td>\n",
       "      <td>4.653711e-04</td>\n",
       "      <td>7.248752e-13</td>\n",
       "      <td>1.948947e-06</td>\n",
       "      <td>-0.018350</td>\n",
       "      <td>0.000042</td>\n",
       "    </tr>\n",
       "    <tr>\n",
       "      <th>ip1.l1</th>\n",
       "      <td>ip1.l1:1</td>\n",
       "      <td>26658.883200</td>\n",
       "      <td>19.344438</td>\n",
       "      <td>64.310000</td>\n",
       "      <td>19.202845</td>\n",
       "      <td>59.320000</td>\n",
       "      <td>1.323483e-09</td>\n",
       "      <td>3.178942e-10</td>\n",
       "      <td>1.104609e-13</td>\n",
       "      <td>1.450000e-04</td>\n",
       "      <td>0.028278</td>\n",
       "      <td>-0.000782</td>\n",
       "    </tr>\n",
       "  </tbody>\n",
       "</table>\n",
       "</div>"
      ],
      "text/plain": [
       "            name             s       betx        mux       bety        muy  \\\n",
       "ip1        ip1:1      0.000000  19.344438   0.000000  19.202845   0.000000   \n",
       "ip2        ip2:1   3332.284216  18.856456   8.272802  18.964904   7.957720   \n",
       "ip5        ip5:1  13329.593967  19.097400  31.984398  19.200269  29.761319   \n",
       "ip8        ip8:1  23315.226616  24.347550  55.799011  23.946384  51.715754   \n",
       "ip1.l1  ip1.l1:1  26658.883200  19.344438  64.310000  19.202845  59.320000   \n",
       "\n",
       "                   x            px             y            py        dx  \\\n",
       "ip1     1.323483e-09  3.178942e-10  1.104578e-13  1.450000e-04  0.028278   \n",
       "ip2     1.431809e-09 -3.146798e-07  1.802691e-13 -1.953840e-04 -0.019935   \n",
       "ip5     9.546657e-10  1.033076e-11  6.666004e-13 -1.986384e-15  0.021519   \n",
       "ip8     8.990442e-10  4.653711e-04  7.248752e-13  1.948947e-06 -0.018350   \n",
       "ip1.l1  1.323483e-09  3.178942e-10  1.104609e-13  1.450000e-04  0.028278   \n",
       "\n",
       "             dpx  \n",
       "ip1    -0.000782  \n",
       "ip2    -0.001338  \n",
       "ip5    -0.000772  \n",
       "ip8     0.000042  \n",
       "ip1.l1 -0.000782  "
      ]
     },
     "execution_count": 29,
     "metadata": {},
     "output_type": "execute_result"
    }
   ],
   "source": [
    "# NB: the orbit of the beams (namely IP separation and crossing angle could differ from the vdM fill settings)\n",
    "b2DF[B2.atIP1 | B2.atIP2 | B2.atIP5 | B2.atIP8 | B2.atIP1l][['name','s','betx','mux','bety','muy','x','px','y','py','dx','dpx']]"
   ]
  },
  {
   "cell_type": "markdown",
   "metadata": {
    "slideshow": {
     "slide_type": "slide"
    }
   },
   "source": [
    "# Phase advance between the IP with the \"standard\" optics configuration"
   ]
  },
  {
   "cell_type": "code",
   "execution_count": 13,
   "metadata": {
    "slideshow": {
     "slide_type": "fragment"
    }
   },
   "outputs": [
    {
     "data": {
      "text/html": [
       "<div>\n",
       "<style scoped>\n",
       "    .dataframe tbody tr th:only-of-type {\n",
       "        vertical-align: middle;\n",
       "    }\n",
       "\n",
       "    .dataframe tbody tr th {\n",
       "        vertical-align: top;\n",
       "    }\n",
       "\n",
       "    .dataframe thead th {\n",
       "        text-align: right;\n",
       "    }\n",
       "</style>\n",
       "<table border=\"1\" class=\"dataframe\">\n",
       "  <thead>\n",
       "    <tr style=\"text-align: right;\">\n",
       "      <th></th>\n",
       "      <th>IPs</th>\n",
       "      <th>mux_B1</th>\n",
       "      <th>muy_B1</th>\n",
       "      <th>mux_B2</th>\n",
       "      <th>muy_B2</th>\n",
       "    </tr>\n",
       "  </thead>\n",
       "  <tbody>\n",
       "    <tr>\n",
       "      <th>0</th>\n",
       "      <td>IP1</td>\n",
       "      <td>0.000000</td>\n",
       "      <td>0.000000</td>\n",
       "      <td>0.000000</td>\n",
       "      <td>0.000000</td>\n",
       "    </tr>\n",
       "    <tr>\n",
       "      <th>1</th>\n",
       "      <td>IP2</td>\n",
       "      <td>8.295954</td>\n",
       "      <td>7.669167</td>\n",
       "      <td>8.272802</td>\n",
       "      <td>7.957720</td>\n",
       "    </tr>\n",
       "    <tr>\n",
       "      <th>2</th>\n",
       "      <td>IP5</td>\n",
       "      <td>31.975690</td>\n",
       "      <td>29.648602</td>\n",
       "      <td>31.984398</td>\n",
       "      <td>29.761319</td>\n",
       "    </tr>\n",
       "    <tr>\n",
       "      <th>3</th>\n",
       "      <td>IP8</td>\n",
       "      <td>56.064831</td>\n",
       "      <td>51.017069</td>\n",
       "      <td>55.799011</td>\n",
       "      <td>51.715754</td>\n",
       "    </tr>\n",
       "    <tr>\n",
       "      <th>4</th>\n",
       "      <td>IP1.L1</td>\n",
       "      <td>64.310000</td>\n",
       "      <td>59.320000</td>\n",
       "      <td>64.310000</td>\n",
       "      <td>59.320000</td>\n",
       "    </tr>\n",
       "  </tbody>\n",
       "</table>\n",
       "</div>"
      ],
      "text/plain": [
       "      IPs     mux_B1     muy_B1     mux_B2     muy_B2\n",
       "0     IP1   0.000000   0.000000   0.000000   0.000000\n",
       "1     IP2   8.295954   7.669167   8.272802   7.957720\n",
       "2     IP5  31.975690  29.648602  31.984398  29.761319\n",
       "3     IP8  56.064831  51.017069  55.799011  51.715754\n",
       "4  IP1.L1  64.310000  59.320000  64.310000  59.320000"
      ]
     },
     "execution_count": 13,
     "metadata": {},
     "output_type": "execute_result"
    }
   ],
   "source": [
    "auxB1=b1DF[B1.atIP1 | B1.atIP2 | B1.atIP5 | B1.atIP8| B1.atIP1l][['name','mux','muy']]\n",
    "auxB2=b2DF[B2.atIP1 | B2.atIP2 | B2.atIP5 | B2.atIP8| B2.atIP1l][['name','mux','muy']]\n",
    "myDict={'IPs':['IP1','IP2','IP5','IP8','IP1.L1'],'mux_B1': auxB1['mux'].values,'muy_B1': auxB1['muy'].values,\n",
    "       'mux_B2': auxB2['mux'].values,'muy_B2': auxB2['muy'].values}\n",
    "solution1=pd.DataFrame(myDict)\n",
    "solution1"
   ]
  },
  {
   "cell_type": "markdown",
   "metadata": {
    "slideshow": {
     "slide_type": "fragment"
    }
   },
   "source": [
    "**NB:** the partial phase advances of B1 and B2 are different."
   ]
  },
  {
   "cell_type": "markdown",
   "metadata": {
    "slideshow": {
     "slide_type": "slide"
    }
   },
   "source": [
    "# Changing the experiments bumps\n",
    "We repeat the analysis to find the phase advances between the IPs by changing the machine closed orbit.\n",
    "The goal is to test the sensitivity to this parameter."
   ]
  },
  {
   "cell_type": "code",
   "execution_count": 32,
   "metadata": {
    "slideshow": {
     "slide_type": "subslide"
    }
   },
   "outputs": [
    {
     "name": "stdout",
     "output_type": "stream",
     "text": [
      "enter Twiss module\n",
      "  \n",
      "iteration:   1 error:   9.251000E-09 deltap:   0.000000E+00\n",
      "orbit:  -7.075985E-11 -5.260818E-10  0.000000E+00  0.000000E+00  0.000000E+00  0.000000E+00\n",
      "\n",
      "++++++ table: summ\n",
      "\n",
      "            length             orbit5               alfa            gammatr \n",
      "        26658.8832                 -0    0.0003202008398        55.88416505 \n",
      "\n",
      "                q1                dq1            betxmax              dxmax \n",
      "             64.31        3.005049683        593.5113395        2.822825194 \n",
      "\n",
      "             dxrms             xcomax             xcorms                 q2 \n",
      "       1.344676563    3.353872132e-08    9.423767048e-09        59.31999999 \n",
      "\n",
      "               dq2            betymax              dymax              dyrms \n",
      "       2.997897113        609.8694967                 -0                  0 \n",
      "\n",
      "            ycomax             ycorms             deltap            synch_1 \n",
      "                 0                  0                  0                  0 \n",
      "\n",
      "           synch_2            synch_3            synch_4            synch_5 \n",
      "                 0                  0                  0                  0 \n",
      "\n",
      "            nflips \n",
      "                 0 \n",
      "enter Twiss module\n",
      "  \n",
      "iteration:   1 error:   4.635410E-09 deltap:   0.000000E+00\n",
      "orbit:   1.184297E-09  3.482403E-10  0.000000E+00  0.000000E+00  0.000000E+00  0.000000E+00\n",
      "\n",
      "++++++ table: summ\n",
      "\n",
      "            length             orbit5               alfa            gammatr \n",
      "        26658.8832                 -0    0.0003192043099        55.97132999 \n",
      "\n",
      "                q1                dq1            betxmax              dxmax \n",
      "             64.31        3.011186982        590.9961657        2.865613434 \n",
      "\n",
      "             dxrms             xcomax             xcorms                 q2 \n",
      "       1.342255547    2.123042926e-08    5.813181257e-09              59.32 \n",
      "\n",
      "               dq2            betymax              dymax              dyrms \n",
      "       2.989903993        604.6420859                 -0                  0 \n",
      "\n",
      "            ycomax             ycorms             deltap            synch_1 \n",
      "                 0                  0                  0                  0 \n",
      "\n",
      "           synch_2            synch_3            synch_4            synch_5 \n",
      "                 0                  0                  0                  0 \n",
      "\n",
      "            nflips \n",
      "                 0 \n"
     ]
    }
   ],
   "source": [
    "myMad.input('''\n",
    "on_x1=0;\n",
    "on_sep1= 0;\n",
    "on_o1= 0;\n",
    "\n",
    "on_x2=0;\n",
    "on_x5=0;\n",
    "on_sep5= 0;\n",
    "\n",
    "on_x8=0;\n",
    "on_alice=0;\n",
    "on_lhcb=0;\n",
    "\n",
    "on_o1= 0;\n",
    "on_o5= 0;\n",
    "\n",
    "use, sequence=lhcb1;\n",
    "twiss, table=twiss_ipb1_flat;\n",
    "\n",
    "use, sequence=lhcb2;\n",
    "twiss, table=twiss_ipb2_flat;\n",
    "''')\n",
    "b1DF=myMad.table.twiss_ipb1_flat.dframe()\n",
    "b2DF=myMad.table.twiss_ipb2_flat.dframe()"
   ]
  },
  {
   "cell_type": "code",
   "execution_count": 33,
   "metadata": {
    "slideshow": {
     "slide_type": "subslide"
    }
   },
   "outputs": [
    {
     "data": {
      "text/html": [
       "<div>\n",
       "<style scoped>\n",
       "    .dataframe tbody tr th:only-of-type {\n",
       "        vertical-align: middle;\n",
       "    }\n",
       "\n",
       "    .dataframe tbody tr th {\n",
       "        vertical-align: top;\n",
       "    }\n",
       "\n",
       "    .dataframe thead th {\n",
       "        text-align: right;\n",
       "    }\n",
       "</style>\n",
       "<table border=\"1\" class=\"dataframe\">\n",
       "  <thead>\n",
       "    <tr style=\"text-align: right;\">\n",
       "      <th></th>\n",
       "      <th>IPs</th>\n",
       "      <th>mux_B1</th>\n",
       "      <th>muy_B1</th>\n",
       "      <th>mux_B2</th>\n",
       "      <th>muy_B2</th>\n",
       "    </tr>\n",
       "  </thead>\n",
       "  <tbody>\n",
       "    <tr>\n",
       "      <th>0</th>\n",
       "      <td>IP1</td>\n",
       "      <td>0.000000</td>\n",
       "      <td>0.000000</td>\n",
       "      <td>0.000000</td>\n",
       "      <td>0.000000</td>\n",
       "    </tr>\n",
       "    <tr>\n",
       "      <th>1</th>\n",
       "      <td>IP2</td>\n",
       "      <td>8.295954</td>\n",
       "      <td>7.669167</td>\n",
       "      <td>8.272802</td>\n",
       "      <td>7.957720</td>\n",
       "    </tr>\n",
       "    <tr>\n",
       "      <th>2</th>\n",
       "      <td>IP5</td>\n",
       "      <td>31.975690</td>\n",
       "      <td>29.648602</td>\n",
       "      <td>31.984398</td>\n",
       "      <td>29.761319</td>\n",
       "    </tr>\n",
       "    <tr>\n",
       "      <th>3</th>\n",
       "      <td>IP8</td>\n",
       "      <td>56.064831</td>\n",
       "      <td>51.017069</td>\n",
       "      <td>55.799012</td>\n",
       "      <td>51.715754</td>\n",
       "    </tr>\n",
       "    <tr>\n",
       "      <th>4</th>\n",
       "      <td>IP1.L1</td>\n",
       "      <td>64.310000</td>\n",
       "      <td>59.320000</td>\n",
       "      <td>64.310000</td>\n",
       "      <td>59.320000</td>\n",
       "    </tr>\n",
       "  </tbody>\n",
       "</table>\n",
       "</div>"
      ],
      "text/plain": [
       "      IPs     mux_B1     muy_B1     mux_B2     muy_B2\n",
       "0     IP1   0.000000   0.000000   0.000000   0.000000\n",
       "1     IP2   8.295954   7.669167   8.272802   7.957720\n",
       "2     IP5  31.975690  29.648602  31.984398  29.761319\n",
       "3     IP8  56.064831  51.017069  55.799012  51.715754\n",
       "4  IP1.L1  64.310000  59.320000  64.310000  59.320000"
      ]
     },
     "execution_count": 33,
     "metadata": {},
     "output_type": "execute_result"
    }
   ],
   "source": [
    "# Result with the new machine configuration\n",
    "auxB1=b1DF[B1.atIP1 | B1.atIP2 | B1.atIP5 | B1.atIP8| B1.atIP1l][['name','mux','muy']]\n",
    "auxB2=b2DF[B2.atIP1 | B2.atIP2 | B2.atIP5 | B2.atIP8| B2.atIP1l][['name','mux','muy']]\n",
    "myDict={'IPs':['IP1','IP2','IP5','IP8','IP1.L1'],'mux_B1': auxB1['mux'].values,'muy_B1': auxB1['muy'].values,\n",
    "       'mux_B2': auxB2['mux'].values,'muy_B2': auxB2['muy'].values}\n",
    "solution2=pd.DataFrame(myDict)\n",
    "solution2"
   ]
  },
  {
   "cell_type": "markdown",
   "metadata": {
    "slideshow": {
     "slide_type": "slide"
    }
   },
   "source": [
    "# Difference between the two configurations\n"
   ]
  },
  {
   "cell_type": "code",
   "execution_count": 34,
   "metadata": {
    "slideshow": {
     "slide_type": "fragment"
    }
   },
   "outputs": [
    {
     "data": {
      "text/html": [
       "<div>\n",
       "<style scoped>\n",
       "    .dataframe tbody tr th:only-of-type {\n",
       "        vertical-align: middle;\n",
       "    }\n",
       "\n",
       "    .dataframe tbody tr th {\n",
       "        vertical-align: top;\n",
       "    }\n",
       "\n",
       "    .dataframe thead th {\n",
       "        text-align: right;\n",
       "    }\n",
       "</style>\n",
       "<table border=\"1\" class=\"dataframe\">\n",
       "  <thead>\n",
       "    <tr style=\"text-align: right;\">\n",
       "      <th></th>\n",
       "      <th>mux_B1</th>\n",
       "      <th>muy_B1</th>\n",
       "      <th>mux_B2</th>\n",
       "      <th>muy_B2</th>\n",
       "    </tr>\n",
       "  </thead>\n",
       "  <tbody>\n",
       "    <tr>\n",
       "      <th>0</th>\n",
       "      <td>0.000000e+00</td>\n",
       "      <td>0.000000e+00</td>\n",
       "      <td>0.000000e+00</td>\n",
       "      <td>0.000000e+00</td>\n",
       "    </tr>\n",
       "    <tr>\n",
       "      <th>1</th>\n",
       "      <td>8.118508e-08</td>\n",
       "      <td>-2.396127e-08</td>\n",
       "      <td>-7.616989e-08</td>\n",
       "      <td>-6.599904e-09</td>\n",
       "    </tr>\n",
       "    <tr>\n",
       "      <th>2</th>\n",
       "      <td>4.398650e-10</td>\n",
       "      <td>-1.945075e-08</td>\n",
       "      <td>-6.726470e-09</td>\n",
       "      <td>9.467822e-09</td>\n",
       "    </tr>\n",
       "    <tr>\n",
       "      <th>3</th>\n",
       "      <td>-3.711982e-09</td>\n",
       "      <td>1.001098e-09</td>\n",
       "      <td>-8.038246e-08</td>\n",
       "      <td>2.203826e-08</td>\n",
       "    </tr>\n",
       "    <tr>\n",
       "      <th>4</th>\n",
       "      <td>-9.402230e-08</td>\n",
       "      <td>3.350141e-08</td>\n",
       "      <td>-9.383005e-08</td>\n",
       "      <td>3.279654e-08</td>\n",
       "    </tr>\n",
       "  </tbody>\n",
       "</table>\n",
       "</div>"
      ],
      "text/plain": [
       "         mux_B1        muy_B1        mux_B2        muy_B2\n",
       "0  0.000000e+00  0.000000e+00  0.000000e+00  0.000000e+00\n",
       "1  8.118508e-08 -2.396127e-08 -7.616989e-08 -6.599904e-09\n",
       "2  4.398650e-10 -1.945075e-08 -6.726470e-09  9.467822e-09\n",
       "3 -3.711982e-09  1.001098e-09 -8.038246e-08  2.203826e-08\n",
       "4 -9.402230e-08  3.350141e-08 -9.383005e-08  3.279654e-08"
      ]
     },
     "execution_count": 34,
     "metadata": {},
     "output_type": "execute_result"
    }
   ],
   "source": [
    "solution1[['mux_B1','muy_B1','mux_B2','muy_B2']]-solution2[['mux_B1','muy_B1','mux_B2','muy_B2']]"
   ]
  },
  {
   "cell_type": "markdown",
   "metadata": {
    "slideshow": {
     "slide_type": "fragment"
    }
   },
   "source": [
    "**CONCLUSION:** as expected the two solutions are equivalent (error much smaller than what can be measured at the moment)."
   ]
  }
 ],
 "metadata": {
  "celltoolbar": "Slideshow",
  "kernelspec": {
   "display_name": "Python 3",
   "language": "python",
   "name": "python3"
  },
  "language_info": {
   "codemirror_mode": {
    "name": "ipython",
    "version": 3
   },
   "file_extension": ".py",
   "mimetype": "text/x-python",
   "name": "python",
   "nbconvert_exporter": "python",
   "pygments_lexer": "ipython3",
   "version": "3.6.5"
  }
 },
 "nbformat": 4,
 "nbformat_minor": 2
}
